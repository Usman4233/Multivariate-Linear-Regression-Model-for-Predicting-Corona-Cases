{
 "cells": [
  {
   "cell_type": "markdown",
   "metadata": {},
   "source": [
    "\n",
    "# PROJECT 1\n",
    "\n",
    "Submitted To: `Dr. Hasan Sajid`                                              \n",
    "Submitted By: `Usman Zaheer`, Roll No: `13194`, Registration Number: `00000327700` \n",
    "RIME: `2020`  Subject: `Machine Learning`\n"
   ]
  },
  {
   "cell_type": "markdown",
   "metadata": {},
   "source": [
    "### Problem Statement\n",
    "#### Write complete code to train a linear/non-linear model for predicting corona cases in USA and world with regularization.\n",
    "-  In this model, linear regression model with regularization is implemented for predicting corona cases in USA different states."
   ]
  },
  {
   "cell_type": "markdown",
   "metadata": {},
   "source": [
    "### Multivariate Linear Regression Model for Predicting Corona Cases in USA"
   ]
  },
  {
   "cell_type": "markdown",
   "metadata": {},
   "source": [
    "### Step 1:  Importing necesaary libraries for the model.\n"
   ]
  },
  {
   "cell_type": "code",
   "execution_count": 8,
   "metadata": {},
   "outputs": [],
   "source": [
    "import pandas as pd\n",
    "import numpy as np\n",
    "import matplotlib.pyplot as plt"
   ]
  },
  {
   "cell_type": "markdown",
   "metadata": {},
   "source": [
    "#### Useful links from where data was taken and cleaned for this specific model.\n",
    "\n",
    "For corona cases data\n",
    "- 1) https://covidtracking.com/data/api   \n",
    "\n",
    "For weather states temperarure avg data\n",
    "- 2) https://www.weatherbase.com/weather/state.php3?c=US&name=United+States+of+America\n",
    "\n",
    "For humidity data of states \n",
    "- 3) https://www.currentresults.com/Weather/US/annual-average-humidity-by-state.php-main\n",
    "- https://www.forbes.com/sites/brianbrettschneider/2018/08/23/oh-the-humidity-why-is-alaska-the-most-humid-state/?sh=72a82a2e330c\n",
    "\n",
    "Population density \n",
    "- 4)https://worldpopulationreview.com/state-rankings/state-densities\n",
    "\n",
    "Simple population\n",
    "- 5)https://www.worldometers.info/coronavirus/country/us/"
   ]
  },
  {
   "cell_type": "markdown",
   "metadata": {},
   "source": [
    "### Step 2: Importing csv file of USA Data using pandas"
   ]
  },
  {
   "cell_type": "markdown",
   "metadata": {},
   "source": [
    "`USA Final` is the name of csv file which will be converted to dataframe (df) using pandas. "
   ]
  },
  {
   "cell_type": "code",
   "execution_count": 9,
   "metadata": {},
   "outputs": [],
   "source": [
    "df=pd.read_csv('USA Final.csv')"
   ]
  },
  {
   "cell_type": "markdown",
   "metadata": {},
   "source": [
    "Imported Data named `df` "
   ]
  },
  {
   "cell_type": "code",
   "execution_count": 10,
   "metadata": {},
   "outputs": [
    {
     "data": {
      "text/html": [
       "<div>\n",
       "<style scoped>\n",
       "    .dataframe tbody tr th:only-of-type {\n",
       "        vertical-align: middle;\n",
       "    }\n",
       "\n",
       "    .dataframe tbody tr th {\n",
       "        vertical-align: top;\n",
       "    }\n",
       "\n",
       "    .dataframe thead th {\n",
       "        text-align: right;\n",
       "    }\n",
       "</style>\n",
       "<table border=\"1\" class=\"dataframe\">\n",
       "  <thead>\n",
       "    <tr style=\"text-align: right;\">\n",
       "      <th></th>\n",
       "      <th>Date</th>\n",
       "      <th>XO</th>\n",
       "      <th>Date_Code</th>\n",
       "      <th>States_Code</th>\n",
       "      <th>Temperatures_(F)</th>\n",
       "      <th>Humidity_(%)</th>\n",
       "      <th>Population_per_state</th>\n",
       "      <th>LandArea_(sq miles)</th>\n",
       "      <th>Population_Density</th>\n",
       "      <th>Cases_per_day</th>\n",
       "    </tr>\n",
       "  </thead>\n",
       "  <tbody>\n",
       "    <tr>\n",
       "      <th>0</th>\n",
       "      <td>12/6/2020</td>\n",
       "      <td>1</td>\n",
       "      <td>0</td>\n",
       "      <td>1</td>\n",
       "      <td>11.6</td>\n",
       "      <td>77.1</td>\n",
       "      <td>731545</td>\n",
       "      <td>570641</td>\n",
       "      <td>1.29</td>\n",
       "      <td>757</td>\n",
       "    </tr>\n",
       "    <tr>\n",
       "      <th>1</th>\n",
       "      <td>12/6/2020</td>\n",
       "      <td>1</td>\n",
       "      <td>0</td>\n",
       "      <td>2</td>\n",
       "      <td>46.6</td>\n",
       "      <td>71.6</td>\n",
       "      <td>4903185</td>\n",
       "      <td>50645</td>\n",
       "      <td>96.92</td>\n",
       "      <td>2288</td>\n",
       "    </tr>\n",
       "    <tr>\n",
       "      <th>2</th>\n",
       "      <td>12/6/2020</td>\n",
       "      <td>1</td>\n",
       "      <td>0</td>\n",
       "      <td>3</td>\n",
       "      <td>41.3</td>\n",
       "      <td>70.9</td>\n",
       "      <td>3017804</td>\n",
       "      <td>52035</td>\n",
       "      <td>58.40</td>\n",
       "      <td>1542</td>\n",
       "    </tr>\n",
       "    <tr>\n",
       "      <th>3</th>\n",
       "      <td>12/6/2020</td>\n",
       "      <td>1</td>\n",
       "      <td>0</td>\n",
       "      <td>4</td>\n",
       "      <td>38.0</td>\n",
       "      <td>80.0</td>\n",
       "      <td>55138</td>\n",
       "      <td>77</td>\n",
       "      <td>716.00</td>\n",
       "      <td>0</td>\n",
       "    </tr>\n",
       "    <tr>\n",
       "      <th>4</th>\n",
       "      <td>12/6/2020</td>\n",
       "      <td>1</td>\n",
       "      <td>0</td>\n",
       "      <td>5</td>\n",
       "      <td>43.6</td>\n",
       "      <td>38.5</td>\n",
       "      <td>7278717</td>\n",
       "      <td>113594</td>\n",
       "      <td>64.95</td>\n",
       "      <td>5376</td>\n",
       "    </tr>\n",
       "    <tr>\n",
       "      <th>...</th>\n",
       "      <td>...</td>\n",
       "      <td>...</td>\n",
       "      <td>...</td>\n",
       "      <td>...</td>\n",
       "      <td>...</td>\n",
       "      <td>...</td>\n",
       "      <td>...</td>\n",
       "      <td>...</td>\n",
       "      <td>...</td>\n",
       "      <td>...</td>\n",
       "    </tr>\n",
       "    <tr>\n",
       "      <th>14835</th>\n",
       "      <td>3/17/2020</td>\n",
       "      <td>1</td>\n",
       "      <td>264</td>\n",
       "      <td>52</td>\n",
       "      <td>28.6</td>\n",
       "      <td>71.7</td>\n",
       "      <td>623989</td>\n",
       "      <td>9217</td>\n",
       "      <td>68.14</td>\n",
       "      <td>5</td>\n",
       "    </tr>\n",
       "    <tr>\n",
       "      <th>14836</th>\n",
       "      <td>3/17/2020</td>\n",
       "      <td>1</td>\n",
       "      <td>264</td>\n",
       "      <td>53</td>\n",
       "      <td>41.4</td>\n",
       "      <td>71.4</td>\n",
       "      <td>7614893</td>\n",
       "      <td>66456</td>\n",
       "      <td>117.33</td>\n",
       "      <td>264</td>\n",
       "    </tr>\n",
       "    <tr>\n",
       "      <th>14837</th>\n",
       "      <td>3/17/2020</td>\n",
       "      <td>1</td>\n",
       "      <td>264</td>\n",
       "      <td>54</td>\n",
       "      <td>30.0</td>\n",
       "      <td>71.6</td>\n",
       "      <td>5822434</td>\n",
       "      <td>54158</td>\n",
       "      <td>108.05</td>\n",
       "      <td>27</td>\n",
       "    </tr>\n",
       "    <tr>\n",
       "      <th>14838</th>\n",
       "      <td>3/17/2020</td>\n",
       "      <td>1</td>\n",
       "      <td>264</td>\n",
       "      <td>55</td>\n",
       "      <td>41.0</td>\n",
       "      <td>69.7</td>\n",
       "      <td>1792147</td>\n",
       "      <td>24038</td>\n",
       "      <td>73.97</td>\n",
       "      <td>0</td>\n",
       "    </tr>\n",
       "    <tr>\n",
       "      <th>14839</th>\n",
       "      <td>3/17/2020</td>\n",
       "      <td>1</td>\n",
       "      <td>264</td>\n",
       "      <td>56</td>\n",
       "      <td>31.6</td>\n",
       "      <td>57.1</td>\n",
       "      <td>578759</td>\n",
       "      <td>97093</td>\n",
       "      <td>5.84</td>\n",
       "      <td>7</td>\n",
       "    </tr>\n",
       "  </tbody>\n",
       "</table>\n",
       "<p>14840 rows × 10 columns</p>\n",
       "</div>"
      ],
      "text/plain": [
       "            Date  XO  Date_Code  States_Code  Temperatures_(F)  Humidity_(%)  \\\n",
       "0      12/6/2020   1          0            1              11.6          77.1   \n",
       "1      12/6/2020   1          0            2              46.6          71.6   \n",
       "2      12/6/2020   1          0            3              41.3          70.9   \n",
       "3      12/6/2020   1          0            4              38.0          80.0   \n",
       "4      12/6/2020   1          0            5              43.6          38.5   \n",
       "...          ...  ..        ...          ...               ...           ...   \n",
       "14835  3/17/2020   1        264           52              28.6          71.7   \n",
       "14836  3/17/2020   1        264           53              41.4          71.4   \n",
       "14837  3/17/2020   1        264           54              30.0          71.6   \n",
       "14838  3/17/2020   1        264           55              41.0          69.7   \n",
       "14839  3/17/2020   1        264           56              31.6          57.1   \n",
       "\n",
       "       Population_per_state   LandArea_(sq miles) Population_Density  \\\n",
       "0                     731545               570641               1.29   \n",
       "1                    4903185                50645              96.92   \n",
       "2                    3017804                52035              58.40   \n",
       "3                      55138                   77             716.00   \n",
       "4                    7278717               113594              64.95   \n",
       "...                      ...                  ...                ...   \n",
       "14835                 623989                 9217              68.14   \n",
       "14836                7614893                66456             117.33   \n",
       "14837                5822434                54158             108.05   \n",
       "14838                1792147                24038              73.97   \n",
       "14839                 578759                97093               5.84   \n",
       "\n",
       "       Cases_per_day  \n",
       "0                757  \n",
       "1               2288  \n",
       "2               1542  \n",
       "3                  0  \n",
       "4               5376  \n",
       "...              ...  \n",
       "14835              5  \n",
       "14836            264  \n",
       "14837             27  \n",
       "14838              0  \n",
       "14839              7  \n",
       "\n",
       "[14840 rows x 10 columns]"
      ]
     },
     "execution_count": 10,
     "metadata": {},
     "output_type": "execute_result"
    }
   ],
   "source": [
    "df"
   ]
  },
  {
   "cell_type": "markdown",
   "metadata": {},
   "source": [
    "### Step 3: Cleaning Data frame "
   ]
  },
  {
   "cell_type": "code",
   "execution_count": 11,
   "metadata": {},
   "outputs": [
    {
     "data": {
      "text/plain": [
       "Date                      object\n",
       "XO                         int64\n",
       "Date_Code                  int64\n",
       "States_Code                int64\n",
       "Temperatures_(F)         float64\n",
       "Humidity_(%)             float64\n",
       "Population_per_state       int64\n",
       "LandArea_(sq miles)        int64\n",
       "Population_Density        object\n",
       "Cases_per_day              int64\n",
       "dtype: object"
      ]
     },
     "execution_count": 11,
     "metadata": {},
     "output_type": "execute_result"
    }
   ],
   "source": [
    "df.dtypes"
   ]
  },
  {
   "cell_type": "markdown",
   "metadata": {},
   "source": [
    "Population Desnsity column is object type, so it will converted to float."
   ]
  },
  {
   "cell_type": "code",
   "execution_count": 12,
   "metadata": {},
   "outputs": [],
   "source": [
    "df[\"Population_Density\"]= df[\"Population_Density\"].astype(float)"
   ]
  },
  {
   "cell_type": "code",
   "execution_count": 13,
   "metadata": {},
   "outputs": [
    {
     "data": {
      "text/plain": [
       "Date                      object\n",
       "XO                         int64\n",
       "Date_Code                  int64\n",
       "States_Code                int64\n",
       "Temperatures_(F)         float64\n",
       "Humidity_(%)             float64\n",
       "Population_per_state       int64\n",
       "LandArea_(sq miles)        int64\n",
       "Population_Density       float64\n",
       "Cases_per_day              int64\n",
       "dtype: object"
      ]
     },
     "execution_count": 13,
     "metadata": {},
     "output_type": "execute_result"
    }
   ],
   "source": [
    "df.dtypes"
   ]
  },
  {
   "cell_type": "markdown",
   "metadata": {},
   "source": [
    " Here, We have 8 valid features:\n",
    "\n",
    "    - *1) XO (Bias Term) = 1\n",
    "    - *2) DATE_CODE = In this model \"date\" is numerically coded. For example: \n",
    "        Model date starts from 6th December 2020 and ends at 17th March 2020.\n",
    "        - *Here: 17th march 2020 is 264 and 6th December is 0.\n",
    "    - *3) States_Code: States codes are also numerically coded. For example:\n",
    "         *Here: 1 = Alaska, 2= Alabama and 56=Wyoming.\n",
    "    - *4) Temperatures_(F): Tempearures in F of particular state at particular date. \n",
    "    - *5) Humidity_(%): Average humidity in % of particular state at particular date. \n",
    "    - *6) Population_per_state: Average populationin of particular state at particular date.  \n",
    "    - *7) LandArea_(sq miles): Land Area in square miles of particular state .\n",
    "    - *8) POPULATION_DENSITY: Population Density of particular state. \n",
    "        \n",
    " Here, We have 1 label : Cases_per_day in particulat state at particular date"
   ]
  },
  {
   "cell_type": "markdown",
   "metadata": {},
   "source": [
    "### Step 4: Assigning features of model to `x` and prediction label to `y`"
   ]
  },
  {
   "cell_type": "markdown",
   "metadata": {},
   "source": [
    "Assigning the features columns to x and label column (Cases per day) to y."
   ]
  },
  {
   "cell_type": "code",
   "execution_count": 20,
   "metadata": {},
   "outputs": [
    {
     "data": {
      "text/html": [
       "<div>\n",
       "<style scoped>\n",
       "    .dataframe tbody tr th:only-of-type {\n",
       "        vertical-align: middle;\n",
       "    }\n",
       "\n",
       "    .dataframe tbody tr th {\n",
       "        vertical-align: top;\n",
       "    }\n",
       "\n",
       "    .dataframe thead th {\n",
       "        text-align: right;\n",
       "    }\n",
       "</style>\n",
       "<table border=\"1\" class=\"dataframe\">\n",
       "  <thead>\n",
       "    <tr style=\"text-align: right;\">\n",
       "      <th></th>\n",
       "      <th>XO</th>\n",
       "      <th>Date_Code</th>\n",
       "      <th>States_Code</th>\n",
       "      <th>Temperatures_(F)</th>\n",
       "      <th>Humidity_(%)</th>\n",
       "      <th>Population_per_state</th>\n",
       "      <th>LandArea_(sq miles)</th>\n",
       "      <th>Population_Density</th>\n",
       "    </tr>\n",
       "  </thead>\n",
       "  <tbody>\n",
       "    <tr>\n",
       "      <th>0</th>\n",
       "      <td>1</td>\n",
       "      <td>0</td>\n",
       "      <td>1</td>\n",
       "      <td>11.6</td>\n",
       "      <td>77.1</td>\n",
       "      <td>731545</td>\n",
       "      <td>570641</td>\n",
       "      <td>1.29</td>\n",
       "    </tr>\n",
       "    <tr>\n",
       "      <th>1</th>\n",
       "      <td>1</td>\n",
       "      <td>0</td>\n",
       "      <td>2</td>\n",
       "      <td>46.6</td>\n",
       "      <td>71.6</td>\n",
       "      <td>4903185</td>\n",
       "      <td>50645</td>\n",
       "      <td>96.92</td>\n",
       "    </tr>\n",
       "    <tr>\n",
       "      <th>2</th>\n",
       "      <td>1</td>\n",
       "      <td>0</td>\n",
       "      <td>3</td>\n",
       "      <td>41.3</td>\n",
       "      <td>70.9</td>\n",
       "      <td>3017804</td>\n",
       "      <td>52035</td>\n",
       "      <td>58.40</td>\n",
       "    </tr>\n",
       "    <tr>\n",
       "      <th>3</th>\n",
       "      <td>1</td>\n",
       "      <td>0</td>\n",
       "      <td>4</td>\n",
       "      <td>38.0</td>\n",
       "      <td>80.0</td>\n",
       "      <td>55138</td>\n",
       "      <td>77</td>\n",
       "      <td>716.00</td>\n",
       "    </tr>\n",
       "    <tr>\n",
       "      <th>4</th>\n",
       "      <td>1</td>\n",
       "      <td>0</td>\n",
       "      <td>5</td>\n",
       "      <td>43.6</td>\n",
       "      <td>38.5</td>\n",
       "      <td>7278717</td>\n",
       "      <td>113594</td>\n",
       "      <td>64.95</td>\n",
       "    </tr>\n",
       "  </tbody>\n",
       "</table>\n",
       "</div>"
      ],
      "text/plain": [
       "   XO  Date_Code  States_Code  Temperatures_(F)  Humidity_(%)  \\\n",
       "0   1          0            1              11.6          77.1   \n",
       "1   1          0            2              46.6          71.6   \n",
       "2   1          0            3              41.3          70.9   \n",
       "3   1          0            4              38.0          80.0   \n",
       "4   1          0            5              43.6          38.5   \n",
       "\n",
       "   Population_per_state   LandArea_(sq miles)  Population_Density  \n",
       "0                 731545               570641                1.29  \n",
       "1                4903185                50645               96.92  \n",
       "2                3017804                52035               58.40  \n",
       "3                  55138                   77              716.00  \n",
       "4                7278717               113594               64.95  "
      ]
     },
     "execution_count": 20,
     "metadata": {},
     "output_type": "execute_result"
    }
   ],
   "source": [
    "x=df.drop([\"Date\",'Cases_per_day'], axis=1)\n",
    "x.head()"
   ]
  },
  {
   "cell_type": "markdown",
   "metadata": {},
   "source": [
    "Assigning prediction label \"Cases_per_day\" to `y`"
   ]
  },
  {
   "cell_type": "code",
   "execution_count": 21,
   "metadata": {},
   "outputs": [
    {
     "data": {
      "text/plain": [
       "0     757\n",
       "1    2288\n",
       "2    1542\n",
       "3       0\n",
       "4    5376\n",
       "Name: Cases_per_day, dtype: int64"
      ]
     },
     "execution_count": 21,
     "metadata": {},
     "output_type": "execute_result"
    }
   ],
   "source": [
    "y=df[\"Cases_per_day\"]\n",
    "y.head()"
   ]
  },
  {
   "cell_type": "code",
   "execution_count": 22,
   "metadata": {},
   "outputs": [
    {
     "data": {
      "text/plain": [
       "(XO                              1.0\n",
       " Date_Code                     264.0\n",
       " States_Code                    56.0\n",
       " Temperatures_(F)               82.8\n",
       " Humidity_(%)                   80.0\n",
       " Population_per_state     39512223.0\n",
       " LandArea_(sq miles)        570641.0\n",
       " Population_Density          11535.0\n",
       " dtype: float64,\n",
       " XO                           1.00\n",
       " Date_Code                    0.00\n",
       " States_Code                  1.00\n",
       " Temperatures_(F)             0.00\n",
       " Humidity_(%)                38.30\n",
       " Population_per_state     55138.00\n",
       " LandArea_(sq miles)         68.00\n",
       " Population_Density           1.29\n",
       " dtype: float64)"
      ]
     },
     "execution_count": 22,
     "metadata": {},
     "output_type": "execute_result"
    }
   ],
   "source": [
    "x.max(), x.min()"
   ]
  },
  {
   "cell_type": "markdown",
   "metadata": {},
   "source": [
    "### Step 5: Normalization/ Scaling of features between 0 and 1"
   ]
  },
  {
   "cell_type": "code",
   "execution_count": 23,
   "metadata": {},
   "outputs": [],
   "source": [
    "for j in range(0, len(x.columns)):\n",
    "    x=(x-x.min())/(x.max()-x.min())"
   ]
  },
  {
   "cell_type": "code",
   "execution_count": 24,
   "metadata": {},
   "outputs": [
    {
     "data": {
      "text/html": [
       "<div>\n",
       "<style scoped>\n",
       "    .dataframe tbody tr th:only-of-type {\n",
       "        vertical-align: middle;\n",
       "    }\n",
       "\n",
       "    .dataframe tbody tr th {\n",
       "        vertical-align: top;\n",
       "    }\n",
       "\n",
       "    .dataframe thead th {\n",
       "        text-align: right;\n",
       "    }\n",
       "</style>\n",
       "<table border=\"1\" class=\"dataframe\">\n",
       "  <thead>\n",
       "    <tr style=\"text-align: right;\">\n",
       "      <th></th>\n",
       "      <th>XO</th>\n",
       "      <th>Date_Code</th>\n",
       "      <th>States_Code</th>\n",
       "      <th>Temperatures_(F)</th>\n",
       "      <th>Humidity_(%)</th>\n",
       "      <th>Population_per_state</th>\n",
       "      <th>LandArea_(sq miles)</th>\n",
       "      <th>Population_Density</th>\n",
       "    </tr>\n",
       "  </thead>\n",
       "  <tbody>\n",
       "    <tr>\n",
       "      <th>0</th>\n",
       "      <td>NaN</td>\n",
       "      <td>0.0</td>\n",
       "      <td>0.000000</td>\n",
       "      <td>0.140097</td>\n",
       "      <td>0.930456</td>\n",
       "      <td>0.017143</td>\n",
       "      <td>1.000000</td>\n",
       "      <td>0.000000</td>\n",
       "    </tr>\n",
       "    <tr>\n",
       "      <th>1</th>\n",
       "      <td>NaN</td>\n",
       "      <td>0.0</td>\n",
       "      <td>0.018182</td>\n",
       "      <td>0.562802</td>\n",
       "      <td>0.798561</td>\n",
       "      <td>0.122869</td>\n",
       "      <td>0.088642</td>\n",
       "      <td>0.008291</td>\n",
       "    </tr>\n",
       "    <tr>\n",
       "      <th>2</th>\n",
       "      <td>NaN</td>\n",
       "      <td>0.0</td>\n",
       "      <td>0.036364</td>\n",
       "      <td>0.498792</td>\n",
       "      <td>0.781775</td>\n",
       "      <td>0.075086</td>\n",
       "      <td>0.091079</td>\n",
       "      <td>0.004952</td>\n",
       "    </tr>\n",
       "    <tr>\n",
       "      <th>3</th>\n",
       "      <td>NaN</td>\n",
       "      <td>0.0</td>\n",
       "      <td>0.054545</td>\n",
       "      <td>0.458937</td>\n",
       "      <td>1.000000</td>\n",
       "      <td>0.000000</td>\n",
       "      <td>0.000016</td>\n",
       "      <td>0.061967</td>\n",
       "    </tr>\n",
       "    <tr>\n",
       "      <th>4</th>\n",
       "      <td>NaN</td>\n",
       "      <td>0.0</td>\n",
       "      <td>0.072727</td>\n",
       "      <td>0.526570</td>\n",
       "      <td>0.004796</td>\n",
       "      <td>0.183074</td>\n",
       "      <td>0.198968</td>\n",
       "      <td>0.005519</td>\n",
       "    </tr>\n",
       "  </tbody>\n",
       "</table>\n",
       "</div>"
      ],
      "text/plain": [
       "   XO  Date_Code  States_Code  Temperatures_(F)  Humidity_(%)  \\\n",
       "0 NaN        0.0     0.000000          0.140097      0.930456   \n",
       "1 NaN        0.0     0.018182          0.562802      0.798561   \n",
       "2 NaN        0.0     0.036364          0.498792      0.781775   \n",
       "3 NaN        0.0     0.054545          0.458937      1.000000   \n",
       "4 NaN        0.0     0.072727          0.526570      0.004796   \n",
       "\n",
       "   Population_per_state   LandArea_(sq miles)  Population_Density  \n",
       "0               0.017143             1.000000            0.000000  \n",
       "1               0.122869             0.088642            0.008291  \n",
       "2               0.075086             0.091079            0.004952  \n",
       "3               0.000000             0.000016            0.061967  \n",
       "4               0.183074             0.198968            0.005519  "
      ]
     },
     "execution_count": 24,
     "metadata": {},
     "output_type": "execute_result"
    }
   ],
   "source": [
    "x.head()"
   ]
  },
  {
   "cell_type": "code",
   "execution_count": 25,
   "metadata": {},
   "outputs": [],
   "source": [
    "x[\"XO\"]=x[\"XO\"].fillna(1)"
   ]
  },
  {
   "cell_type": "code",
   "execution_count": 26,
   "metadata": {},
   "outputs": [
    {
     "data": {
      "text/plain": [
       "8"
      ]
     },
     "execution_count": 26,
     "metadata": {},
     "output_type": "execute_result"
    }
   ],
   "source": [
    "len(x.columns)"
   ]
  },
  {
   "cell_type": "markdown",
   "metadata": {},
   "source": [
    "Scaled Features between 0 and 1"
   ]
  },
  {
   "cell_type": "code",
   "execution_count": 27,
   "metadata": {},
   "outputs": [
    {
     "data": {
      "text/html": [
       "<div>\n",
       "<style scoped>\n",
       "    .dataframe tbody tr th:only-of-type {\n",
       "        vertical-align: middle;\n",
       "    }\n",
       "\n",
       "    .dataframe tbody tr th {\n",
       "        vertical-align: top;\n",
       "    }\n",
       "\n",
       "    .dataframe thead th {\n",
       "        text-align: right;\n",
       "    }\n",
       "</style>\n",
       "<table border=\"1\" class=\"dataframe\">\n",
       "  <thead>\n",
       "    <tr style=\"text-align: right;\">\n",
       "      <th></th>\n",
       "      <th>XO</th>\n",
       "      <th>Date_Code</th>\n",
       "      <th>States_Code</th>\n",
       "      <th>Temperatures_(F)</th>\n",
       "      <th>Humidity_(%)</th>\n",
       "      <th>Population_per_state</th>\n",
       "      <th>LandArea_(sq miles)</th>\n",
       "      <th>Population_Density</th>\n",
       "    </tr>\n",
       "  </thead>\n",
       "  <tbody>\n",
       "    <tr>\n",
       "      <th>0</th>\n",
       "      <td>1.0</td>\n",
       "      <td>0.0</td>\n",
       "      <td>0.000000</td>\n",
       "      <td>0.140097</td>\n",
       "      <td>0.930456</td>\n",
       "      <td>0.017143</td>\n",
       "      <td>1.000000</td>\n",
       "      <td>0.000000</td>\n",
       "    </tr>\n",
       "    <tr>\n",
       "      <th>1</th>\n",
       "      <td>1.0</td>\n",
       "      <td>0.0</td>\n",
       "      <td>0.018182</td>\n",
       "      <td>0.562802</td>\n",
       "      <td>0.798561</td>\n",
       "      <td>0.122869</td>\n",
       "      <td>0.088642</td>\n",
       "      <td>0.008291</td>\n",
       "    </tr>\n",
       "    <tr>\n",
       "      <th>2</th>\n",
       "      <td>1.0</td>\n",
       "      <td>0.0</td>\n",
       "      <td>0.036364</td>\n",
       "      <td>0.498792</td>\n",
       "      <td>0.781775</td>\n",
       "      <td>0.075086</td>\n",
       "      <td>0.091079</td>\n",
       "      <td>0.004952</td>\n",
       "    </tr>\n",
       "    <tr>\n",
       "      <th>3</th>\n",
       "      <td>1.0</td>\n",
       "      <td>0.0</td>\n",
       "      <td>0.054545</td>\n",
       "      <td>0.458937</td>\n",
       "      <td>1.000000</td>\n",
       "      <td>0.000000</td>\n",
       "      <td>0.000016</td>\n",
       "      <td>0.061967</td>\n",
       "    </tr>\n",
       "    <tr>\n",
       "      <th>4</th>\n",
       "      <td>1.0</td>\n",
       "      <td>0.0</td>\n",
       "      <td>0.072727</td>\n",
       "      <td>0.526570</td>\n",
       "      <td>0.004796</td>\n",
       "      <td>0.183074</td>\n",
       "      <td>0.198968</td>\n",
       "      <td>0.005519</td>\n",
       "    </tr>\n",
       "  </tbody>\n",
       "</table>\n",
       "</div>"
      ],
      "text/plain": [
       "    XO  Date_Code  States_Code  Temperatures_(F)  Humidity_(%)  \\\n",
       "0  1.0        0.0     0.000000          0.140097      0.930456   \n",
       "1  1.0        0.0     0.018182          0.562802      0.798561   \n",
       "2  1.0        0.0     0.036364          0.498792      0.781775   \n",
       "3  1.0        0.0     0.054545          0.458937      1.000000   \n",
       "4  1.0        0.0     0.072727          0.526570      0.004796   \n",
       "\n",
       "   Population_per_state   LandArea_(sq miles)  Population_Density  \n",
       "0               0.017143             1.000000            0.000000  \n",
       "1               0.122869             0.088642            0.008291  \n",
       "2               0.075086             0.091079            0.004952  \n",
       "3               0.000000             0.000016            0.061967  \n",
       "4               0.183074             0.198968            0.005519  "
      ]
     },
     "execution_count": 27,
     "metadata": {},
     "output_type": "execute_result"
    }
   ],
   "source": [
    "x.head()"
   ]
  },
  {
   "cell_type": "markdown",
   "metadata": {},
   "source": [
    "### Step 6: Splitting dataframe into training(60%) validation(20%) and testing data (20%) "
   ]
  },
  {
   "cell_type": "markdown",
   "metadata": {},
   "source": [
    "Now splitting the data into training, validation and testing data.\n"
   ]
  },
  {
   "cell_type": "code",
   "execution_count": 28,
   "metadata": {},
   "outputs": [],
   "source": [
    "train_split=round(0.6*len(df))\n",
    "valid_split=round(train_split+0.20*len(df))\n",
    "\n",
    "x_train,y_train=x[:train_split],y[:train_split]\n",
    "x_valid, y_valid=x[train_split:valid_split],y[train_split:valid_split]\n",
    "x_test, y_test=x[valid_split:],y[valid_split:]"
   ]
  },
  {
   "cell_type": "markdown",
   "metadata": {},
   "source": [
    "* x_train, y_train are features and label of training set.\n",
    "* x_valid, y_valid are features and label of validation set.\n",
    "* x_test, y_test are features and label of test set.\n"
   ]
  },
  {
   "cell_type": "markdown",
   "metadata": {},
   "source": [
    "#### Now checking the x_train and y_train length to verify data split."
   ]
  },
  {
   "cell_type": "code",
   "execution_count": 29,
   "metadata": {},
   "outputs": [
    {
     "data": {
      "text/plain": [
       "(8904, 8904, 2968)"
      ]
     },
     "execution_count": 29,
     "metadata": {},
     "output_type": "execute_result"
    }
   ],
   "source": [
    "len(x_train), len(y_train) , len(x_valid)"
   ]
  },
  {
   "cell_type": "markdown",
   "metadata": {},
   "source": [
    "# Training Code"
   ]
  },
  {
   "cell_type": "markdown",
   "metadata": {},
   "source": [
    "### Step 7:  Initiating Thetas(Model Parameters) and  defining Hypothesis for Linear Regression"
   ]
  },
  {
   "cell_type": "markdown",
   "metadata": {},
   "source": [
    "As in this model Linear regression is applied, so Hypothesis is Thetas*x_train.\n",
    "Here: \n",
    "    * Thetas= Model Parameters or weights for each feature.\n",
    "    * x_train= Features of model \n",
    "In this model, there are total 8 feaures including the bias term Xo. So initiating 8 thetas of value = 0. "
   ]
  },
  {
   "cell_type": "code",
   "execution_count": 30,
   "metadata": {},
   "outputs": [
    {
     "data": {
      "text/plain": [
       "array([0, 0, 0, 0, 0, 0, 0, 0])"
      ]
     },
     "execution_count": 30,
     "metadata": {},
     "output_type": "execute_result"
    }
   ],
   "source": [
    "Thetas=np.array([0]*len(x_train.columns))\n",
    "Thetas"
   ]
  },
  {
   "cell_type": "markdown",
   "metadata": {},
   "source": [
    "#### Hypothesis is given by following function:"
   ]
  },
  {
   "cell_type": "code",
   "execution_count": 31,
   "metadata": {},
   "outputs": [],
   "source": [
    "def Hypothesis(Thetas,x_train):\n",
    "    return Thetas*x_train"
   ]
  },
  {
   "cell_type": "markdown",
   "metadata": {},
   "source": [
    "`m` is the length is our training set"
   ]
  },
  {
   "cell_type": "code",
   "execution_count": 33,
   "metadata": {},
   "outputs": [
    {
     "data": {
      "text/plain": [
       "8904"
      ]
     },
     "execution_count": 33,
     "metadata": {},
     "output_type": "execute_result"
    }
   ],
   "source": [
    "m = len(x_train)\n",
    "m"
   ]
  },
  {
   "cell_type": "markdown",
   "metadata": {},
   "source": [
    "### Step 8: Cost function "
   ]
  },
  {
   "cell_type": "markdown",
   "metadata": {},
   "source": [
    "Cost function is basically the difference between prediction by the model and the prediction label.Here, Regularization is also applied with Cost Function.\n",
    "        \n",
    "        *lambda_ is the regulzarization parameter."
   ]
  },
  {
   "cell_type": "markdown",
   "metadata": {},
   "source": [
    "#### Cost function is given by:\n"
   ]
  },
  {
   "cell_type": "code",
   "execution_count": 34,
   "metadata": {},
   "outputs": [],
   "source": [
    "def Cost_Function(x_train,y_train,Thetas,lambda_):\n",
    "    H=Hypothesis(Thetas,x_train)\n",
    "    H=np.sum(H,axis=1)\n",
    "    Cost=(np.sum(np.power((H-y_train),2))+lambda_*np.sum(np.power(Thetas[1:],2)))/(2*m)\n",
    "    return Cost"
   ]
  },
  {
   "cell_type": "code",
   "execution_count": 35,
   "metadata": {},
   "outputs": [],
   "source": [
    "n=len(x_valid)"
   ]
  },
  {
   "cell_type": "code",
   "execution_count": 36,
   "metadata": {},
   "outputs": [],
   "source": [
    "def Cost_Function_valid(x_valid,y_valid,Thetas,lambda_):\n",
    "    H=Hypothesis_v(Thetas,x_valid)\n",
    "    H=np.sum(H,axis=1)\n",
    "    Cost=(np.sum(np.power((H-y_valid),2))+lambda_*np.sum(np.power(Thetas[1:],2)))/(2*n)\n",
    "    return Cost"
   ]
  },
  {
   "cell_type": "markdown",
   "metadata": {},
   "source": [
    "### Step 9: Gradient Descent"
   ]
  },
  {
   "cell_type": "markdown",
   "metadata": {},
   "source": [
    "Gradient Descenet is used to find the minimum values of thetas, so that our cost will be minimum. Mimimum cost indicates that the difference between our prediction and actual label is very low. \n",
    "Here, Regularization is also applied with Gradient Descnet to prevent overfitting\n",
    "\n",
    "\n"
   ]
  },
  {
   "cell_type": "markdown",
   "metadata": {},
   "source": [
    "#### Gradient Descent is given by:"
   ]
  },
  {
   "cell_type": "code",
   "execution_count": 37,
   "metadata": {},
   "outputs": [],
   "source": [
    "def Gradient_Descent(x_train, y_train, Thetas,lambda_, alpha, iterations):\n",
    "    J_train = []  #cost of training set in each iterations is saved in this list\n",
    "    J_valid = []  #cost of valid set in each iterations is saved in this list\n",
    "    J_test =  []  #cost of test set in each iterations is saved in this list\n",
    "    temp_var = 0\n",
    "    while temp_var < iterations:        \n",
    "        H = Hypothesis(Thetas, x_train)\n",
    "        H = np.sum(H, axis=1)\n",
    "        for  i in range(0, len(x_train.columns)):\n",
    "            if i==0:\n",
    "                Thetas[0]=Thetas[0]-alpha*(sum((H-y_train)*x_train.iloc[:,0])/(m))\n",
    "            else:\n",
    "                Thetas[i] = Thetas[i]*(1-alpha*(lambda_/m)) - alpha*(sum((H-y_train)*x_train.iloc[:,i])/(m))\n",
    "                \n",
    "                #thethas[i] = thethas[i] - alpha*(sum((H-y_train)*x_train.iloc[:,i])/(m))\n",
    "        j_t = Cost_Function(x_train,y_train, Thetas,lambda_)\n",
    "        J_train.append(j_t)\n",
    "        j_v = Cost_Function_valid(x_valid,y_valid, Thetas,lambda_)\n",
    "        J_valid.append(j_v)\n",
    "        j_te = Cost_Function_valid(x_test,y_test, Thetas,lambda_)\n",
    "        J_test.append(j_te)\n",
    "        temp_var += 1\n",
    "    return J_train,J_valid,J_test, j_t,j_v,j_te, Thetas"
   ]
  },
  {
   "cell_type": "markdown",
   "metadata": {},
   "source": [
    "#### Calculating cost using gradient descent with the following parameters:\n",
    "* alpha is learning rate =0.01\n",
    "* Iterations is our loop running factor =2000\n",
    "* lambda_ is regularization = 10\n",
    "\n",
    "Here, when we put \n",
    "        \n",
    "        *lambda_ = 0, there will no regularizarion"
   ]
  },
  {
   "cell_type": "code",
   "execution_count": 38,
   "metadata": {},
   "outputs": [],
   "source": [
    "J_train,J_valid,J_test, j_t,j_v,j_te,Thetas = Gradient_Descent(x_train,y_train,Thetas,10,0.01,2000)"
   ]
  },
  {
   "cell_type": "markdown",
   "metadata": {},
   "source": [
    "#### Thetas (paramters) of our model on training data are as follows:"
   ]
  },
  {
   "cell_type": "code",
   "execution_count": 39,
   "metadata": {
    "scrolled": true
   },
   "outputs": [
    {
     "data": {
      "text/plain": [
       "array([ 598,    0,    2,   24,  350, 2864,   56,    0])"
      ]
     },
     "execution_count": 39,
     "metadata": {},
     "output_type": "execute_result"
    }
   ],
   "source": [
    "Thetas"
   ]
  },
  {
   "cell_type": "code",
   "execution_count": 40,
   "metadata": {},
   "outputs": [
    {
     "data": {
      "text/plain": [
       "([3126345.44681938,\n",
       "  3088199.718780892,\n",
       "  3053022.768976592,\n",
       "  3019180.9576043244,\n",
       "  2986070.103949517],\n",
       " [404530.01570733025,\n",
       "  391788.7212958417,\n",
       "  380573.43672683585,\n",
       "  370321.0583992374,\n",
       "  360865.09726979514],\n",
       " [604193.3338288635,\n",
       "  592266.143645967,\n",
       "  581804.488504365,\n",
       "  572276.7593128103,\n",
       "  563492.9124969577])"
      ]
     },
     "execution_count": 40,
     "metadata": {},
     "output_type": "execute_result"
    }
   ],
   "source": [
    " J_train[:5],J_valid[:5], J_test[:5]\n"
   ]
  },
  {
   "cell_type": "markdown",
   "metadata": {},
   "source": [
    "# Prediction Function Code"
   ]
  },
  {
   "cell_type": "markdown",
   "metadata": {},
   "source": [
    "### Step 10: Calculating Predictions using Hypothesis function and model parameters\n",
    "\n",
    "`py_train` is our prediction and we are applying our model parameters on training set to check the predictions and accuracy of our model."
   ]
  },
  {
   "cell_type": "code",
   "execution_count": 41,
   "metadata": {},
   "outputs": [],
   "source": [
    "py_train= Hypothesis(Thetas,x_train)\n",
    "py_train= np.sum(py_train,axis=1)"
   ]
  },
  {
   "cell_type": "code",
   "execution_count": 42,
   "metadata": {},
   "outputs": [
    {
     "data": {
      "text/plain": [
       "0    1032.118922\n",
       "1    1247.900402\n",
       "2    1103.810921\n",
       "3     959.124467\n",
       "4    1147.928876\n",
       "dtype: float64"
      ]
     },
     "execution_count": 42,
     "metadata": {},
     "output_type": "execute_result"
    }
   ],
   "source": [
    "py_train.head()"
   ]
  },
  {
   "cell_type": "markdown",
   "metadata": {},
   "source": [
    "###  Step 10.1 Result Visualization\n",
    "\n",
    "#### A)  Graph of Cost vs Iterations to check the working of our model. \n",
    "#### B)  Scattter plot for our predictions and y_train."
   ]
  },
  {
   "cell_type": "code",
   "execution_count": 43,
   "metadata": {},
   "outputs": [
    {
     "data": {
      "image/png": "[encoded data removed]",
      "text/plain": [
       "<Figure size 1224x360 with 2 Axes>"
      ]
     },
     "metadata": {
      "needs_background": "light"
     },
     "output_type": "display_data"
    }
   ],
   "source": [
    "fig,(ax1,ax2)=plt.subplots(figsize=(17,5),\n",
    "                          nrows=1,\n",
    "                          ncols=2)\n",
    "ax1.scatter(x=list(range(0,2000)),y=J_train,color='green')\n",
    "ax1.set(xlabel='Number of  iterations',\n",
    "      ylabel='Cost (J_train) after each Iteration',\n",
    "      title='Cost Vs Iterations (Multivariable Linear Regression )')\n",
    "ax2.scatter(x=list(range(0,len(x_train))),y=y_train,color='red',label='Original Label')\n",
    "ax2.scatter(x=list(range(0,len(x_train))),y=py_train,color='green',label='Prediction Label')\n",
    "ax2.set(xlabel='No of samples in our Training set',\n",
    "       ylabel='Labels',\n",
    "       title='Comparison of Prediction label and original label')\n",
    "ax2.legend();"
   ]
  },
  {
   "cell_type": "markdown",
   "metadata": {},
   "source": [
    "###  Step 10.2 Calculating Mean Absolute Error on training set"
   ]
  },
  {
   "cell_type": "code",
   "execution_count": 44,
   "metadata": {},
   "outputs": [
    {
     "data": {
      "text/plain": [
       "1087.1478347699021"
      ]
     },
     "execution_count": 44,
     "metadata": {},
     "output_type": "execute_result"
    }
   ],
   "source": [
    "MAE_train=np.sum(np.absolute(y_train-py_train))/len(x_train)\n",
    "\n",
    "MAE_train"
   ]
  },
  {
   "cell_type": "markdown",
   "metadata": {},
   "source": [
    "Mean absolute Error is `1087` for training set. It means that model is predicting `1087` values different from actual cases"
   ]
  },
  {
   "cell_type": "markdown",
   "metadata": {},
   "source": [
    "### Step 11: Applying model paramters on validation data set"
   ]
  },
  {
   "cell_type": "markdown",
   "metadata": {},
   "source": [
    "`py_validation` is our prediction on validation set and we are applying our model parameters on validation set to check the predictions and accuracy of our model."
   ]
  },
  {
   "cell_type": "code",
   "execution_count": 45,
   "metadata": {},
   "outputs": [],
   "source": [
    "py_validation= Hypothesis(Thetas,x_valid)\n",
    "py_validation= np.sum(py_validation,axis=1)"
   ]
  },
  {
   "cell_type": "code",
   "execution_count": 46,
   "metadata": {},
   "outputs": [
    {
     "data": {
      "text/plain": [
       "8904    1043.771096\n",
       "8905    1256.393156\n",
       "8906    1114.071791\n",
       "8907     948.109974\n",
       "8908    1157.320180\n",
       "dtype: float64"
      ]
     },
     "execution_count": 46,
     "metadata": {},
     "output_type": "execute_result"
    }
   ],
   "source": [
    "py_validation.head()"
   ]
  },
  {
   "cell_type": "markdown",
   "metadata": {},
   "source": [
    "### Step 11.1 Result Visualization for validation data"
   ]
  },
  {
   "cell_type": "markdown",
   "metadata": {},
   "source": [
    "#### Creating  scattter plots for our predictions on validation data and y_valid label."
   ]
  },
  {
   "cell_type": "code",
   "execution_count": 47,
   "metadata": {},
   "outputs": [
    {
     "data": {
      "image/png": "[encoded data removed]",
      "text/plain": [
       "<Figure size 1224x360 with 2 Axes>"
      ]
     },
     "metadata": {
      "needs_background": "light"
     },
     "output_type": "display_data"
    }
   ],
   "source": [
    "fig,(ax1,ax2)=plt.subplots(figsize=(17,5),\n",
    "                          nrows=1,\n",
    "                          ncols=2)\n",
    "ax1.scatter(x=list(range(0,2000)),y=J_valid,color=\"green\")\n",
    "ax1.set(xlabel=\"No of Iterations\", ylabel = \"error on validation set J_v\", title =\"Cost vs Iteration on Validation set\")\n",
    "ax2.scatter(x=list(range(0,len(x_valid))),y=y_valid,color='maroon',label='Original Label')\n",
    "ax2.scatter(x=list(range(0,len(x_valid))),y=py_validation,color='#123450',label='Prediction Label')\n",
    "ax2.set(xlabel='No of samples in our validation set',\n",
    "       ylabel='Prediction Label in validation set ',\n",
    "       title='Comparison of Prediction label and original label')\n",
    "ax2.legend();"
   ]
  },
  {
   "cell_type": "markdown",
   "metadata": {},
   "source": [
    "### Step 11.2 Mean Absolute Error for validation set"
   ]
  },
  {
   "cell_type": "code",
   "execution_count": 48,
   "metadata": {},
   "outputs": [
    {
     "data": {
      "text/plain": [
       "932.9972011398406"
      ]
     },
     "execution_count": 48,
     "metadata": {},
     "output_type": "execute_result"
    }
   ],
   "source": [
    "MAE_validation=np.sum(np.absolute(y_valid-py_validation))/len(x_valid)\n",
    "MAE_validation"
   ]
  },
  {
   "cell_type": "markdown",
   "metadata": {},
   "source": [
    "Mean absolute Error is `932` for validation set. It means that model is predicting `932` values wrong from actual cases"
   ]
  },
  {
   "cell_type": "markdown",
   "metadata": {},
   "source": [
    "### Step 12: Applying model paramters on test data set"
   ]
  },
  {
   "cell_type": "markdown",
   "metadata": {},
   "source": [
    "`py_test` is our prediction on test set and we are applying our model parameters on test set to check the predictions and accuracy of our model."
   ]
  },
  {
   "cell_type": "code",
   "execution_count": 49,
   "metadata": {},
   "outputs": [],
   "source": [
    "py_test= Hypothesis(Thetas,x_test)\n",
    "py_test= np.sum(py_test,axis=1)"
   ]
  },
  {
   "cell_type": "code",
   "execution_count": 50,
   "metadata": {},
   "outputs": [
    {
     "data": {
      "text/plain": [
       "11872    1040.843559\n",
       "11873    1254.596055\n",
       "11874    1111.810921\n",
       "11875     948.109974\n",
       "11876    1154.682499\n",
       "dtype: float64"
      ]
     },
     "execution_count": 50,
     "metadata": {},
     "output_type": "execute_result"
    }
   ],
   "source": [
    "py_test.head()"
   ]
  },
  {
   "cell_type": "markdown",
   "metadata": {},
   "source": [
    "### Step 12.1 Result Visualization for test data"
   ]
  },
  {
   "cell_type": "markdown",
   "metadata": {},
   "source": [
    " \n",
    "#### Creating  scattter plots for our predictions on test data and y_test label."
   ]
  },
  {
   "cell_type": "code",
   "execution_count": 51,
   "metadata": {},
   "outputs": [
    {
     "data": {
      "image/png": "[encoded data removed]",
      "text/plain": [
       "<Figure size 1224x360 with 2 Axes>"
      ]
     },
     "metadata": {
      "needs_background": "light"
     },
     "output_type": "display_data"
    }
   ],
   "source": [
    "fig,(ax1,ax2)=plt.subplots(figsize=(17,5),\n",
    "                          nrows=1,\n",
    "                          ncols=2)\n",
    "ax1.scatter(x=list(range(0,2000)),y=J_test,color=\"red\")\n",
    "ax1.set(xlabel=\"No of Iterations\", ylabel = \"error on test set J_te\", title =\"Cost vs Iteration on test set\")\n",
    "ax2.scatter(x=list(range(0,len(x_test))),y=y_test,color='brown',label='Original Label')\n",
    "ax2.scatter(x=list(range(0,len(x_test))),y=py_test,color='purple',label='Prediction Label')\n",
    "ax2.set(xlabel='No of samples in our Test set',\n",
    "       ylabel='Prediction Label in test set ',\n",
    "       title='Comparison of Prediction label and original label')\n",
    "ax2.legend();"
   ]
  },
  {
   "cell_type": "markdown",
   "metadata": {},
   "source": [
    "### Step 12.2 Mean Absolute Error for test set"
   ]
  },
  {
   "cell_type": "code",
   "execution_count": 52,
   "metadata": {},
   "outputs": [
    {
     "data": {
      "text/plain": [
       "1068.2771819330865"
      ]
     },
     "execution_count": 52,
     "metadata": {},
     "output_type": "execute_result"
    }
   ],
   "source": [
    "MAE_test=np.sum(np.absolute(y_test-py_test))/len(x_test)\n",
    "MAE_test"
   ]
  },
  {
   "cell_type": "markdown",
   "metadata": {},
   "source": [
    "Mean absolute Error is `1068.34` for test set. It means that model is predicting `1068` values wrong from actual cases in test set."
   ]
  },
  {
   "cell_type": "markdown",
   "metadata": {},
   "source": [
    "### Plot FOR ALL THREE ERRORS"
   ]
  },
  {
   "cell_type": "code",
   "execution_count": 53,
   "metadata": {},
   "outputs": [
    {
     "data": {
      "image/png": "[encoded data removed]",
      "text/plain": [
       "<Figure size 720x360 with 1 Axes>"
      ]
     },
     "metadata": {
      "needs_background": "light"
     },
     "output_type": "display_data"
    }
   ],
   "source": [
    "fig,(ax1)=plt.subplots(figsize=(10,5),\n",
    "                          nrows=1,\n",
    "                          ncols=1)\n",
    "ax1.scatter(x=list(range(0,2000)),y=J_train,color='green',label='Training error(J_train)')\n",
    "ax1.scatter(x=list(range(0,2000)),y=J_valid,color='blue',label='Validation error(J_valid)')\n",
    "ax1.scatter(x=list(range(0,2000)),y=J_test,color=\"red\",label='Test error(J_test)')\n",
    "ax1.set(xlabel=\"No of Iterations\", ylabel = \"Error on train,test and validation set\", title =\"Cost vs Iteration on three sets\")\n",
    "ax1.legend();"
   ]
  },
  {
   "cell_type": "code",
   "execution_count": null,
   "metadata": {},
   "outputs": [],
   "source": []
  }
 ],
 "metadata": {
  "kernelspec": {
   "display_name": "Python 3",
   "language": "python",
   "name": "python3"
  },
  "language_info": {
   "codemirror_mode": {
    "name": "ipython",
    "version": 3
   },
   "file_extension": ".py",
   "mimetype": "text/x-python",
   "name": "python",
   "nbconvert_exporter": "python",
   "pygments_lexer": "ipython3",
   "version": "3.8.3"
  }
 },
 "nbformat": 4,
 "nbformat_minor": 4
}
